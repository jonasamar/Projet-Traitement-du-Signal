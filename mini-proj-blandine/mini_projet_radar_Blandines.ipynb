{
 "cells": [
  {
   "cell_type": "markdown",
   "metadata": {
    "id": "Ly6jTCwt-B5S"
   },
   "source": [
    "# <font color='black'>Introduction aux systèmes radar</font>\n",
    "\n",
    "---\n",
    "\n",
    "<img src=\"images/logo.png\" width=\"100\" align=\"right\">\n",
    "\n",
    "\n",
    "> Year: **2022**\n",
    ">\n",
    "> Version: **1.0**\n"
   ]
  },
  {
   "cell_type": "markdown",
   "metadata": {
    "id": "7MT7QGCl-B5a"
   },
   "source": [
    "## <font color='black'>Introduction</font>\n",
    "\n",
    "---\n",
    "\n",
    "Un RADAR (RAdio Detection And Ranging) est un système de détection électromagnétique (EM) et de mesure de distance. Son principe est analogue aux systèmes d'écholocation qu'utilisent certains animaux évoluant en milieu obscurs (chauve-souris, cétacés). La différence principale est que l'on utilise une onde EM et non sonore.\n",
    "\n",
    "Le radar émet donc une impulsion EM de forte puissance. Celle-ci se propage jusqu'à rencontrer un éventuel obstacle. Il réfléchit l'onde dont une partie est recueillie sur l'antenne du radar. La mesure du temps de vol entre l'onde émise et l'onde reçue permet d'estimer la distance de la cible.\n",
    "\n",
    "<img src=\"images/rad_fig1.png\" width=\"500\">\n",
    "\n",
    "\n",
    "Ce système est donc actif, ce qui lui procure des avantages par rapport aux systèmes de détection et de mesures passifs (optiques, par exemple) nécessitant une source extérieure au système (soleil, par exemple). De plus, en fonction de la bande du spectre EM choisie pour émettre, le système sera capable de «voir» à travers certains milieux opaques à la lumière visible (nuages, brouillard) et même pénétrer la matière sur une certaine profondeur (détection de mines enfouies, ...). Enfin, comme on maitrise l’onde émise, on a directement accès à des mesures précises de distances, contrairement aux systèmes passifs.\n",
    "\n",
    "\n",
    "Le champ d’application de tels systèmes est donc très vaste. Historiquement, les applications sont militaires (veille contre les attaques aériennes, détections de navires, autodirecteurs de missiles, cartographie de terrains, ...). Dans le monde civil, on peut citer la navigation aérienne et maritime, la météorologie, l’altimétrie, les systèmes de freinage d’urgence pour véhicules automobiles, ...)."
   ]
  },
  {
   "cell_type": "markdown",
   "metadata": {
    "id": "QNAj1ZIk-B5b"
   },
   "source": [
    "## Emission d’une impulsion unique, cible fixe\n",
    "\n",
    "Nous allons tout d’abord nous placer dans le cas le plus simple d’objets à détecter immobiles.\n",
    "\n",
    "### Modélisation des signaux émis et reçus\n",
    "\n",
    "\n",
    "Dans un premier temps, le signal émis, $e(t)$, sera une simple impulsion de durée $T = 1$ ms, modulée par une fréquence porteuse constante $f_0 = 40$ KHz, comme représenté sur la figure ci-dessous:\n",
    "\n",
    "<img src=\"images/rad_fig2.png\" width=\"500\">\n",
    "\n",
    "\n",
    "Le signal reçu sur l’un des récepteurs, $r(t)$, sera une réplique de $e(t)$ atténuée et décalée dans le temps d’une valeur $\\tau_0$.\n",
    "\n",
    "#### Question 1\n",
    "\n",
    "Donner l’expression de $\\tau_0$ en fonction de la distance $d$ entre la cible et le radar et $c$ la célérité des ondes.\n",
    "\n",
    "---\n"
   ]
  },
  {
   "cell_type": "markdown",
   "metadata": {},
   "source": [
    "**Réponse :**\n",
    "\n",
    "Le signal est réfléchi au bout d'un temps $\\tau$ notamment dans la direction de l'émetteur. Quand celui-ci le reçoit, le signal a parcouru deux fois la distance $d$ (aller-retour)à la célérité $c$. Donc $\\tau_0$ = $2c$$d$"
   ]
  },
  {
   "cell_type": "markdown",
   "metadata": {
    "id": "P6gtkJdS-B5d"
   },
   "source": [
    " "
   ]
  },
  {
   "cell_type": "markdown",
   "metadata": {
    "id": "a0GE851H-B5d"
   },
   "source": [
    "Les signaux réels, émis et reçus sont tout d’abord convertis en leurs signaux analytiques correspondants.\n",
    "\n",
    ">##### Signal analytique, transformée de Hilbert \n",
    ">La transformée de Fourier $X(f)$ d’un signal réel $x(t)$ est à symétrie hermitienne (module pair et phase impaire). L'observation de la transformée de Fourier seulement sur les fréquences positives suffit donc à reconstruire le signal sans perte d'information. \n",
    ">\n",
    ">On peut ainsi définir le signal analytique associé par \n",
    ">\n",
    "> $$X_a(f) = 2 \n",
    "U(f) X(f)$$\n",
    ">\n",
    ">où $U(f)$ est l’échelon unité. Celui-ci est un signal complexe $x_a(t) = x(t) + i \\hat x(t)$ dont la partie réelle est le signal d’origine $x(t)$. Dans le cas des signaux à bande étroite (dont l’excursion fréquentielle est faible autour d’une fréquence centrale), la partie imaginaire, appelée Transformée de Hilbert correspond à la composante en quadrature par rapport à $x(t)$ (déphasée de $\\pi/2$)\n",
    "\n",
    "\n",
    "\n",
    "#### Question 2\n",
    "\n",
    "Vérifier que $\\Re[x_a(t)] = x(t)$ en calculant $\\mathcal F [\\Re[x_a(t)]]$.\n",
    "De même, donner la fonction de transfert fréquentielle correspondant à la transformée de Hilbert en calculant $\\mathcal F [\\Im[x_a(t)]]$ . En déduire que la transformée de Hilbert correspond à un filtre déphaseur pur de $\\cfrac{\\pi}{2}$.\n",
    "Calculer la transformée de Fourier du signal émis, $e(t)$. En déduire l’expression du signal analytique associé, $e_a(t)$."
   ]
  },
  {
   "cell_type": "markdown",
   "metadata": {
    "id": "98oGPyR8-B5d"
   },
   "source": [
    "**Réponse**\n",
    "\n",
    "On a $$\\mathcal F [\\Re[x_a(t)]] = \\mathcal F \\big( \\frac{x_a(t) + x_a^{*}(t)}{2} \\big) = \\frac{1}{2}(X_a(f) + X_a^{*}(-f) = \\frac{1}{2}(2 U(f)X(f) + 2 U^{*}(-f)X^{*}(-f)) = X(f)$$\n",
    "\n",
    "On a donc $$\\mathcal F [\\Re[x_a(t)]] = X(f)$$ donc on a bien en prenant la transformée de Fourier inverse : $$\\Re[x_a(t)] = x(t)$$\n",
    "\n",
    "On a $$\\mathcal F [\\Im[x_a(t)]] = \\mathcal F \\big( \\frac{x_a(t) - x_a^{*}(t)}{2 i} \\big) = \\frac{1}{2 i}(X_a(f) - X_a^{*}(-f) = \\frac{1}{2}(2 U(f)X(f) + 2 U^{*}(-f)X^{*}(-f)) = \\frac{X(f)}{i}$$\n",
    "\n",
    "On a donc $$\\mathcal F [\\Im[x_a(t)]] = \\frac{X(f)}{i}$$ donc on a bien en prenant la transformée de Fourier inverse déphasée de $\\frac{\\pi}{2}$: $$\\Im[x_a(t)] = x(t + \\frac{\\pi}{2})$$"
   ]
  },
  {
   "cell_type": "markdown",
   "metadata": {
    "id": "v9zD4QAN-B5f"
   },
   "source": [
    "L’intérêt de convertir les signaux réels en leurs équivalents complexes réside dans le fait que tout déphasage sera vu comme une simple multiplication par un nombre complexe. Il est ainsi plus facile d’extraire et de traiter la phase de \n",
    "$x_a(t) = \\alpha e^{i \\varphi} e^{2 i \\pi f_0 t}$ que de $x(t) = \\alpha \\cos (2 i \\pi f_0 t + \\varphi)$\n",
    "\n",
    "### Numérisation des signaux\n",
    "\n",
    "Ces signaux complexes sont ensuite échantillonnés à une fréquence $f_s = 9.5$ KHz (environ), ne respectant pas le théorème de Shannon. Cela permet de démoduler (diminution de la fréquence porteuse) les signaux et de réduire la taille des vecteurs à traiter. \n",
    "\n",
    "> #####  Théorème de Shannon – Repliement de spectre (aliasing)\n",
    ">\n",
    ">Le fait d’échantillonner un signal continu à une cadence $f_s$ entraine une périodisation de sa transformée de Fourier à la période $f_s$ Ainsi, si l’on veut retrouver, sans ambiguïté le signal continu d’origine, il faut échantillonner à une cadence strictement supérieure à 2 fois la fréquence maximale contenue dans le signal d’origine.\n",
    ">\n",
    ">Si cette condition de Shannon n’est pas respectée, une partie de l’information sera perdue et le signal sera modifié. Dans le cas d’un signal à bande étroite, si l’on choisit une fréquence d’échantillonnage supérieure à la bande mais inférieure à la fréquence porteuse, le repliement de spectre engendré modifie seulement la fréquence porteuse apparente et est assimilable à une démodulation.\n",
    "\n",
    "#### Question 3\n",
    "Quelle sera la fréquence apparente des signaux échantillonnés ?\n"
   ]
  },
  {
   "cell_type": "markdown",
   "metadata": {},
   "source": [
    "**Réponse :**\n",
    "\n",
    "La fréquence $f_0 = 40 Hz$ n'appartient pas à l'intervalle $[-f_s , f_s]$ donc il y a un phénomène de repli spectral.\n",
    "On cherche $f$ et $n \\in \\mathbb{N}$ tel que $f - n f_s \\in \\{\\pm 40\\} $\n",
    "\n",
    "On a alors $f \\in \\{ -2, 2 \\}$.\n",
    "\n",
    "La fréquence apparente des signaux échantillonés est de $ 2 Hz$."
   ]
  },
  {
   "cell_type": "markdown",
   "metadata": {
    "id": "6I790u-o-B5g"
   },
   "source": [
    "### Estimation de la distance\n",
    "\n",
    "\n",
    "Nous avons vu dans la partie précédente, que le but premier d’un radar était de détecter et d’estimer la distance des objets environnants. Pour cela, la méthode optimale est d’effectuer l’intercorrélation entre le signal reçu et le signal émis.\n",
    "\n",
    "> ##### Autocorrélation - Intercorrélation\n",
    ">\n",
    "> On sait que l’énergie se conserve par transformée de Fourier (théorème de Parseval) :\n",
    ">\n",
    "> $$ \\int_{-\\infty}^{+\\infty} |x(t)|^2 dt = \\int_{-\\infty}^{+\\infty} |X(f)|^2 df $$\n",
    ">\n",
    "> On peut ainsi définir une densité spectrale d’énergie :  $\\Phi_x (f) = |X(f)|^2$.\n",
    ">\n",
    ">\n",
    "> Par transformée de Fourier inverse, on a :\n",
    "> $$ \\mathcal F^{-1} [|X(f)|^2] = x(t) * x^*(-t) = \\int_{-\\infty}^{+\\infty}  x(t)\\, x^*(t-\\tau) dt $$\n",
    ">\n",
    ">C’est la fonction d’autocorrélation, notée :\n",
    "> $$ R_x(\\tau) = \\int_{-\\infty}^{+\\infty}  x(t)\\, x^*(t-\\tau) dt $$\n",
    ">\n",
    "> Elle mesure la ressemblance d’un signal $x(t)$ avec sa réplique décalée en temps. Cette fonction est à symétrie hermitienne et maximale en 0. \n",
    ">\n",
    "> On peut généraliser cette fonction à l’intercorrélation entre 2 signaux :\n",
    "> $$ R_{xy}(\\tau) = \\int_{-\\infty}^{+\\infty}  x(t)\\, y^*(t-\\tau) dt = x(t) * y^*(-t) = \\mathcal F^{-1} [X(f)Y^*(f)] $$\n",
    ">\n",
    ">Pour les signaux discrétisés en temps, on utilise la formulation suivante :\n",
    "> $$ R_{xy}[k] = \\sum_{n = -\\infty}^{+\\infty} x[n] y^*[n-k] $$"
   ]
  },
  {
   "cell_type": "markdown",
   "metadata": {
    "id": "7-6JmENZ-B5g"
   },
   "source": [
    "> ##### Algorithme de FFT\n",
    "> L’algorithme dit de Fast Fourier Transform (FFT) dû à Cooley et Tukey (1965) consiste à scinder la transformée de Fourier du vecteur initial de taille N en transformées de Fourier de taille N/2. On peut ainsi se ramener successivement à des transformées de Fourier élémentaires de taille 2 permettant de passer d’une charge calculatoire en $O(N^2)$ avec l’algorithme « naïf » (produit matriciel) à une charge calculatoire en $O(Nlog_2(N))$.\n",
    "\n",
    "#### Question 4\n",
    "En supposant que $r_a(t) = \\alpha e_a(t - \\tau_0)$ où $\\alpha$ est un nombre complexe inconnu, exprimer l’intercorrélation $R_{r_a e_a}(\\tau)$ en fonction de l’autocorrélation de $e_a(t)$. Calculer et tracer la fonction d’autocorrélation de $e_a(t)$ .\n",
    "\n",
    "---"
   ]
  },
  {
   "cell_type": "markdown",
   "metadata": {},
   "source": [
    "**Réponse**\n",
    "\n",
    "\\begin{align}\n",
    "R_{r_a e_a}(\\tau) &= \\int_{-\\infty}^{+\\infty}  {r_a}(t)\\, {e_a}^*(t-\\tau) dt \\\\\n",
    "                  &= \\alpha \\int_{-\\infty}^{+\\infty}  {e_a}(t-\\tau_0)\\, {e_a}^*(t-\\tau) dt \\\\\n",
    "                  &= \\alpha \\int_{-\\infty}^{+\\infty}  {e_a}(t-\\tau_0)\\, {e_a}^*(t-\\tau_0 + \\tau_0 - \\tau)dt \\\\\n",
    "                  &= \\alpha \\int_{-\\infty}^{+\\infty}  {e_a}(u)\\, {e_a}^*(u-(\\tau - \\tau_0)) du \\\\\n",
    "                  &= \\alpha R_{e_a}(\\tau - \\tau_0)\n",
    "\\end{align}\n",
    "\n",
    "On a : \n",
    "$$ R_{e_a}(\\tau) = \\int_{-\\infty}^{+\\infty}  e_a(t)\\, e_a^*(t-\\tau) dt = \\int_{-\\infty}^{+\\infty} \\Pi_T(t) e^{2i\\pi f_0t}\\Pi_T(t - \\tau) e^{-2i\\pi f_0(t-\\tau)} dt = \\int_{-\\infty}^{+\\infty} e^{2i\\pi f_0\\tau}\\Pi_T(t) \\Pi_T(t - \\tau) dt = e^{2i\\pi f_0\\tau} (\\Pi_T * \\Pi_T)(\\tau)$$\n",
    "\n",
    "Les deux portes conditionnent les valeurs de $ R_{e_a}$. On a :\n",
    "- pour $\\tau < T, R_{e_a}(\\tau) = 0 $\n",
    "- pour $\\tau > T, R_{e_a}(\\tau) = 0 $\n",
    "- pour $\\tau \\in [-T, T], R_{e_a}(\\tau) = T - |\\tau|$ \n",
    "\n",
    "Donc $$ R_{e_a}(\\tau) = (T - |\\tau|) \\Pi_{2T}(\\tau)$$"
   ]
  },
  {
   "cell_type": "code",
   "execution_count": null,
   "metadata": {
    "id": "FTbbfvxL-B5h"
   },
   "outputs": [],
   "source": [
    " (np.fft.fft(r, axis= 0))np.conj(np.fft.fft(e, axis=0))"
   ]
  },
  {
   "cell_type": "markdown",
   "metadata": {
    "id": "KUly4ijb-B5j"
   },
   "source": [
    "#### Code 1 - Une impulsion non modulèe en fréquence \n",
    "\n",
    "Le fichier « signal1.mat » correspond à un enregistrement des signaux analytiques émis et reçus sur une scène réelle.\n",
    "* Observer l’allure temporelle de ces signaux et vérifier la valeur de la fréquence observée.\n",
    "* Calculer et tracer la fonction d’intercorrélation.\n",
    "* Essayer d’identifier le nombre de cibles présentes ainsi que leur distance. Essayer de définir une résolution du système (distance minimale à partir de laquelle on peut voir 2 cibles). Relier cette résolution à la durée de l’impulsion émise T."
   ]
  },
  {
   "cell_type": "code",
   "execution_count": 1,
   "metadata": {
    "id": "QJDr5SqT-B5k"
   },
   "outputs": [],
   "source": [
    "import scipy.io\n",
    "import numpy as np\n",
    "import matplotlib.pyplot as plt\n",
    "\n",
    "c = 340    # célérité des ondes sonores \n",
    "f0 = 40E3  # fréquence porteuse\n",
    "T = 1E-3   # durée de l'impulsion"
   ]
  },
  {
   "cell_type": "code",
   "execution_count": 2,
   "metadata": {
    "id": "WJWR3O7A-B5l"
   },
   "outputs": [
    {
     "ename": "ValueError",
     "evalue": "x, y, and format string must not be None",
     "output_type": "error",
     "traceback": [
      "\u001b[1;31m---------------------------------------------------------------------------\u001b[0m",
      "\u001b[1;31mValueError\u001b[0m                                Traceback (most recent call last)",
      "\u001b[1;32m<ipython-input-2-fe78fac0fba6>\u001b[0m in \u001b[0;36m<module>\u001b[1;34m\u001b[0m\n\u001b[0;32m     11\u001b[0m \u001b[1;33m\u001b[0m\u001b[0m\n\u001b[0;32m     12\u001b[0m \u001b[1;31m#tracés\u001b[0m\u001b[1;33m\u001b[0m\u001b[1;33m\u001b[0m\u001b[1;33m\u001b[0m\u001b[0m\n\u001b[1;32m---> 13\u001b[1;33m \u001b[0mplt\u001b[0m\u001b[1;33m.\u001b[0m\u001b[0mfigure\u001b[0m\u001b[1;33m(\u001b[0m\u001b[1;33m)\u001b[0m\u001b[1;33m;\u001b[0m\u001b[0mplt\u001b[0m\u001b[1;33m.\u001b[0m\u001b[0mplot\u001b[0m\u001b[1;33m(\u001b[0m\u001b[1;32mNone\u001b[0m\u001b[1;33m)\u001b[0m\u001b[1;33m\u001b[0m\u001b[1;33m\u001b[0m\u001b[0m\n\u001b[0m\u001b[0;32m     14\u001b[0m \u001b[0mplt\u001b[0m\u001b[1;33m.\u001b[0m\u001b[0mlegend\u001b[0m\u001b[1;33m(\u001b[0m\u001b[1;33m)\u001b[0m\u001b[1;33m\u001b[0m\u001b[1;33m\u001b[0m\u001b[0m\n\u001b[0;32m     15\u001b[0m \u001b[0mplt\u001b[0m\u001b[1;33m.\u001b[0m\u001b[0mxlabel\u001b[0m\u001b[1;33m(\u001b[0m\u001b[1;32mNone\u001b[0m\u001b[1;33m)\u001b[0m\u001b[1;33m\u001b[0m\u001b[1;33m\u001b[0m\u001b[0m\n",
      "\u001b[1;32m~\\anaconda3\\lib\\site-packages\\matplotlib\\pyplot.py\u001b[0m in \u001b[0;36mplot\u001b[1;34m(scalex, scaley, data, *args, **kwargs)\u001b[0m\n\u001b[0;32m   2838\u001b[0m \u001b[1;33m@\u001b[0m\u001b[0m_copy_docstring_and_deprecators\u001b[0m\u001b[1;33m(\u001b[0m\u001b[0mAxes\u001b[0m\u001b[1;33m.\u001b[0m\u001b[0mplot\u001b[0m\u001b[1;33m)\u001b[0m\u001b[1;33m\u001b[0m\u001b[1;33m\u001b[0m\u001b[0m\n\u001b[0;32m   2839\u001b[0m \u001b[1;32mdef\u001b[0m \u001b[0mplot\u001b[0m\u001b[1;33m(\u001b[0m\u001b[1;33m*\u001b[0m\u001b[0margs\u001b[0m\u001b[1;33m,\u001b[0m \u001b[0mscalex\u001b[0m\u001b[1;33m=\u001b[0m\u001b[1;32mTrue\u001b[0m\u001b[1;33m,\u001b[0m \u001b[0mscaley\u001b[0m\u001b[1;33m=\u001b[0m\u001b[1;32mTrue\u001b[0m\u001b[1;33m,\u001b[0m \u001b[0mdata\u001b[0m\u001b[1;33m=\u001b[0m\u001b[1;32mNone\u001b[0m\u001b[1;33m,\u001b[0m \u001b[1;33m**\u001b[0m\u001b[0mkwargs\u001b[0m\u001b[1;33m)\u001b[0m\u001b[1;33m:\u001b[0m\u001b[1;33m\u001b[0m\u001b[1;33m\u001b[0m\u001b[0m\n\u001b[1;32m-> 2840\u001b[1;33m     return gca().plot(\n\u001b[0m\u001b[0;32m   2841\u001b[0m         \u001b[1;33m*\u001b[0m\u001b[0margs\u001b[0m\u001b[1;33m,\u001b[0m \u001b[0mscalex\u001b[0m\u001b[1;33m=\u001b[0m\u001b[0mscalex\u001b[0m\u001b[1;33m,\u001b[0m \u001b[0mscaley\u001b[0m\u001b[1;33m=\u001b[0m\u001b[0mscaley\u001b[0m\u001b[1;33m,\u001b[0m\u001b[1;33m\u001b[0m\u001b[1;33m\u001b[0m\u001b[0m\n\u001b[0;32m   2842\u001b[0m         **({\"data\": data} if data is not None else {}), **kwargs)\n",
      "\u001b[1;32m~\\anaconda3\\lib\\site-packages\\matplotlib\\axes\\_axes.py\u001b[0m in \u001b[0;36mplot\u001b[1;34m(self, scalex, scaley, data, *args, **kwargs)\u001b[0m\n\u001b[0;32m   1741\u001b[0m         \"\"\"\n\u001b[0;32m   1742\u001b[0m         \u001b[0mkwargs\u001b[0m \u001b[1;33m=\u001b[0m \u001b[0mcbook\u001b[0m\u001b[1;33m.\u001b[0m\u001b[0mnormalize_kwargs\u001b[0m\u001b[1;33m(\u001b[0m\u001b[0mkwargs\u001b[0m\u001b[1;33m,\u001b[0m \u001b[0mmlines\u001b[0m\u001b[1;33m.\u001b[0m\u001b[0mLine2D\u001b[0m\u001b[1;33m)\u001b[0m\u001b[1;33m\u001b[0m\u001b[1;33m\u001b[0m\u001b[0m\n\u001b[1;32m-> 1743\u001b[1;33m         \u001b[0mlines\u001b[0m \u001b[1;33m=\u001b[0m \u001b[1;33m[\u001b[0m\u001b[1;33m*\u001b[0m\u001b[0mself\u001b[0m\u001b[1;33m.\u001b[0m\u001b[0m_get_lines\u001b[0m\u001b[1;33m(\u001b[0m\u001b[1;33m*\u001b[0m\u001b[0margs\u001b[0m\u001b[1;33m,\u001b[0m \u001b[0mdata\u001b[0m\u001b[1;33m=\u001b[0m\u001b[0mdata\u001b[0m\u001b[1;33m,\u001b[0m \u001b[1;33m**\u001b[0m\u001b[0mkwargs\u001b[0m\u001b[1;33m)\u001b[0m\u001b[1;33m]\u001b[0m\u001b[1;33m\u001b[0m\u001b[1;33m\u001b[0m\u001b[0m\n\u001b[0m\u001b[0;32m   1744\u001b[0m         \u001b[1;32mfor\u001b[0m \u001b[0mline\u001b[0m \u001b[1;32min\u001b[0m \u001b[0mlines\u001b[0m\u001b[1;33m:\u001b[0m\u001b[1;33m\u001b[0m\u001b[1;33m\u001b[0m\u001b[0m\n\u001b[0;32m   1745\u001b[0m             \u001b[0mself\u001b[0m\u001b[1;33m.\u001b[0m\u001b[0madd_line\u001b[0m\u001b[1;33m(\u001b[0m\u001b[0mline\u001b[0m\u001b[1;33m)\u001b[0m\u001b[1;33m\u001b[0m\u001b[1;33m\u001b[0m\u001b[0m\n",
      "\u001b[1;32m~\\anaconda3\\lib\\site-packages\\matplotlib\\axes\\_base.py\u001b[0m in \u001b[0;36m__call__\u001b[1;34m(self, data, *args, **kwargs)\u001b[0m\n\u001b[0;32m    271\u001b[0m                 \u001b[0mthis\u001b[0m \u001b[1;33m+=\u001b[0m \u001b[0margs\u001b[0m\u001b[1;33m[\u001b[0m\u001b[1;36m0\u001b[0m\u001b[1;33m]\u001b[0m\u001b[1;33m,\u001b[0m\u001b[1;33m\u001b[0m\u001b[1;33m\u001b[0m\u001b[0m\n\u001b[0;32m    272\u001b[0m                 \u001b[0margs\u001b[0m \u001b[1;33m=\u001b[0m \u001b[0margs\u001b[0m\u001b[1;33m[\u001b[0m\u001b[1;36m1\u001b[0m\u001b[1;33m:\u001b[0m\u001b[1;33m]\u001b[0m\u001b[1;33m\u001b[0m\u001b[1;33m\u001b[0m\u001b[0m\n\u001b[1;32m--> 273\u001b[1;33m             \u001b[1;32myield\u001b[0m \u001b[1;32mfrom\u001b[0m \u001b[0mself\u001b[0m\u001b[1;33m.\u001b[0m\u001b[0m_plot_args\u001b[0m\u001b[1;33m(\u001b[0m\u001b[0mthis\u001b[0m\u001b[1;33m,\u001b[0m \u001b[0mkwargs\u001b[0m\u001b[1;33m)\u001b[0m\u001b[1;33m\u001b[0m\u001b[1;33m\u001b[0m\u001b[0m\n\u001b[0m\u001b[0;32m    274\u001b[0m \u001b[1;33m\u001b[0m\u001b[0m\n\u001b[0;32m    275\u001b[0m     \u001b[1;32mdef\u001b[0m \u001b[0mget_next_color\u001b[0m\u001b[1;33m(\u001b[0m\u001b[0mself\u001b[0m\u001b[1;33m)\u001b[0m\u001b[1;33m:\u001b[0m\u001b[1;33m\u001b[0m\u001b[1;33m\u001b[0m\u001b[0m\n",
      "\u001b[1;32m~\\anaconda3\\lib\\site-packages\\matplotlib\\axes\\_base.py\u001b[0m in \u001b[0;36m_plot_args\u001b[1;34m(self, tup, kwargs)\u001b[0m\n\u001b[0;32m    377\u001b[0m         \u001b[1;31m# element array of None which causes problems downstream.\u001b[0m\u001b[1;33m\u001b[0m\u001b[1;33m\u001b[0m\u001b[1;33m\u001b[0m\u001b[0m\n\u001b[0;32m    378\u001b[0m         \u001b[1;32mif\u001b[0m \u001b[0many\u001b[0m\u001b[1;33m(\u001b[0m\u001b[0mv\u001b[0m \u001b[1;32mis\u001b[0m \u001b[1;32mNone\u001b[0m \u001b[1;32mfor\u001b[0m \u001b[0mv\u001b[0m \u001b[1;32min\u001b[0m \u001b[0mtup\u001b[0m\u001b[1;33m)\u001b[0m\u001b[1;33m:\u001b[0m\u001b[1;33m\u001b[0m\u001b[1;33m\u001b[0m\u001b[0m\n\u001b[1;32m--> 379\u001b[1;33m             \u001b[1;32mraise\u001b[0m \u001b[0mValueError\u001b[0m\u001b[1;33m(\u001b[0m\u001b[1;34m\"x, y, and format string must not be None\"\u001b[0m\u001b[1;33m)\u001b[0m\u001b[1;33m\u001b[0m\u001b[1;33m\u001b[0m\u001b[0m\n\u001b[0m\u001b[0;32m    380\u001b[0m \u001b[1;33m\u001b[0m\u001b[0m\n\u001b[0;32m    381\u001b[0m         \u001b[0mkw\u001b[0m \u001b[1;33m=\u001b[0m \u001b[1;33m{\u001b[0m\u001b[1;33m}\u001b[0m\u001b[1;33m\u001b[0m\u001b[1;33m\u001b[0m\u001b[0m\n",
      "\u001b[1;31mValueError\u001b[0m: x, y, and format string must not be None"
     ]
    },
    {
     "data": {
      "image/png": "[encoded data removed]",
      "text/plain": [
       "<Figure size 432x288 with 1 Axes>"
      ]
     },
     "metadata": {
      "needs_background": "light"
     },
     "output_type": "display_data"
    }
   ],
   "source": [
    "data = scipy.io.loadmat('data/signal1.mat') # chargement du fichier de données\n",
    "\n",
    "e = data['e']\n",
    "r = data['r']\n",
    "Fs = data['Fs']\n",
    "N = len(r)                                # nombre de points du signal\n",
    "d = c * np.arange(0,N)/Fs/2             # axe distance (metres)\n",
    "\n",
    "cor_fft = None                            # calcul de la corrélation par FFT\n",
    "resol_theorique = None                    # résolution théorique\n",
    "\n",
    "#tracés\n",
    "plt.figure();plt.plot(None)\n",
    "plt.legend()\n",
    "plt.xlabel(None)\n",
    "plt.ylabel(None)\n",
    "plt.title(None)"
   ]
  },
  {
   "cell_type": "markdown",
   "metadata": {
    "id": "_QGlFEsN-B5l"
   },
   "source": [
    "Le pouvoir de résolution du système en utilisant cette forme d’onde basique (impulsion modulée par une fréquence constante) ne permet pas de distinguer 2 objets proches. L’amélioration de la résolution du système passe par la réduction du temps d’impulsion. Malheureusement, cette diminution va à l’encontre de la portée du système qui est proportionnelle à l’énergie émise. La solution classiquement employée pour diminuer la résolution sans sacrifier la portée est d’augmenter la bande du signal émis. Nous allons donc maintenant utiliser une onde modulée linéairement en fréquence, comme représentée sur la figure suivante. La fréquence varie de 38 à 42 KHz (soit une bande $𝐵 = 4$ KHz autours de $f_0$).\n",
    "\n",
    "<img src=\"images/rad_fig3.png\" width=\"500\">\n",
    "\n",
    "#### Question 5\n",
    "\n",
    "Quelles vont être les fréquences observées après échantillonnage à $f_s = 9.5$ KHz ? Si l’on suppose que la transformée de Fourier de $e_a(t)$ est proportionnelle à un rectangle de largeur $𝐵$ centré sur $f_0$ ( $\\Pi_B \\left(f - f_0)\\right)$ ), calculer la largeur de la fonction d’autocorrélation du signal émis. En déduire la résolution théorique du système.\n",
    "\n",
    "---"
   ]
  },
  {
   "cell_type": "markdown",
   "metadata": {
    "collapsed": true,
    "id": "U97Ps3RS-B5l"
   },
   "source": [
    " "
   ]
  },
  {
   "cell_type": "markdown",
   "metadata": {
    "id": "e1ujsfGo-B5m"
   },
   "source": [
    "\n",
    "#### Code 2 - Une impulsion modulée en fréquence\n",
    "\n",
    "Le fichier « signal2.mat » correspond à un enregistrement de ces signaux modulés en fréquence sur la même scène que précédemment.\n",
    "*   Calculer et tracer la fonction d’intercorrélation.\n",
    "*   Essayer d’identifier le nombre de cibles ainsi que leur distance. Comparer à la résolution théorique calculée au-dessus.\n"
   ]
  },
  {
   "cell_type": "code",
   "execution_count": null,
   "metadata": {
    "collapsed": true,
    "id": "RbdlmRDZ-B5n"
   },
   "outputs": [],
   "source": [
    "from scipy.signal import find_peaks\n",
    "B = 4E3 #bande de fréquence\n",
    "\n",
    "data = scipy.io.loadmat('data/signal2.mat')\n",
    "e = data['e']\n",
    "r = data['r']\n",
    "Fs = data['Fs']\n",
    "N = len(r)                                # nombre de points du signal\n",
    "d = c * np.arange(0,N)/Fs/2               # axe distance (metres)\n",
    "\n",
    "cor_fft = None                            # calcul de la corrélation par FFT\n",
    "peaks = find_peaks(None)                  # identification des pics de la fonction d'intercorrélation\n",
    "resol_theorique = None\n",
    "\n",
    "#tracés\n",
    "plt.figure(), plt.plot(None)\n",
    "plt.legend()\n",
    "plt.xlabel(None)\n",
    "plt.ylabel(None)\n",
    "plt.title(None)"
   ]
  },
  {
   "cell_type": "markdown",
   "metadata": {
    "id": "52B1z2lB-B5n"
   },
   "source": [
    "## Emission d’un train d’impulsions, cible mobile\n",
    "\n",
    "### Modélisation des signaux émis et reçus\n",
    "\n",
    "Nous allons maintenant considérer que les cibles visées peuvent être mobiles. Nous supposerons le vecteur vitesse constant durant le temps de mesure (quelques dixièmes de secondes).\n",
    "\n",
    "#### Question 6\n",
    "\n",
    "Montrer que le retard de propagation peut maintenant s’exprimer comme suit $\\tau (t) \\approx \\cfrac{2 d_0}{c} + \\cfrac{2 V_r}{c} t $ en fonction de la position initiale $d_0$ de la cible et de sa vitesse radiale $V_r$. Si l’on note $e_a(t) = \\beta(t) e^{2 i \\pi f_0 t }$, donner l’expression du signal reçu. Montrer que celui-ci peut se\n",
    "mettre sous la forme suivante : $r_a(t) = \\alpha e_a(t - \\tau_0) e^{- 2 i \\pi f_d t}$ si l’on néglige l’effet de la vitesse sur le terme $\\beta(t)$. Donner l’expression de la fréquence Doppler : $f_d$.\n",
    "\n",
    "---"
   ]
  },
  {
   "cell_type": "markdown",
   "metadata": {
    "id": "w7H4SATh-B5n"
   },
   "source": [
    " "
   ]
  },
  {
   "cell_type": "markdown",
   "metadata": {
    "id": "1QbpwROk-B5n"
   },
   "source": [
    "### Estimation de la distance et de la vitesse\n",
    "\n",
    "Le signal émis est maintenant un train de 8 impulsions successives espacées de 𝑇𝑟, comme représenté sur la figure suivante.\n",
    "<img src=\"images/rad_fig4.png\" width=\"500\">\n",
    "\n",
    "Pour faciliter l’estimation jointe de la distance et de la vitesse d’une cible, on convertit les vecteurs correspondants aux signaux émis et reçus en matrices où chaque ligne correspond à une récurrence. Ces matrices comporteront donc 8 lignes dans notre cas de figure.\n",
    "<img src=\"images/rad_fig5.png\" width=\"500\">\n",
    "\n",
    "\n",
    "#### Question 7\n",
    "\n",
    "Que se passerait-il si le retard de propagation est supérieur à $T_r$ ? Définir la portée maximale mesurable sans ambiguïté.\n",
    "\n",
    "---"
   ]
  },
  {
   "cell_type": "markdown",
   "metadata": {
    "id": "sW1lpFoi-B5u"
   },
   "source": [
    " "
   ]
  },
  {
   "cell_type": "markdown",
   "metadata": {
    "id": "896sso9c-B5u"
   },
   "source": [
    "Le traitement pour estimer la distance se fait, comme précédemment par corrélation, mais sur chaque ligne maintenant.\n",
    "\n",
    "<img src=\"images/rad_fig6.png\" width=\"500\">\n",
    "\n",
    "\n",
    "La corrélation étant une opération linéaire, le terme de rotation de phase due à la vitesse de la cible n’est pas modifié. Cette fréquence (rotation de la phase de récurrence à récurrence) qui n’est autre que l’effet Doppler pourra donc être estimé par une transformée de Fourier sur l’axe des récurrences. Celle-ci fera alors apparaitre un pic à la fréquence Doppler correspondante.\n",
    "\n",
    "#### Question 8 \n",
    "\n",
    "Par application du théorème de Shannon, déterminer la fréquence maximale observable sans ambigüité. En déduire la vitesse maximale mesurable. Montrer que le produit entre la distance maximale et la vitesse maximale mesurables sans ambigüité ne dépend pas des paramètres de la forme d’onde.\n",
    "\n",
    "---"
   ]
  },
  {
   "cell_type": "markdown",
   "metadata": {
    "id": "KYbc7pZ2-B5w"
   },
   "source": [
    " "
   ]
  },
  {
   "cell_type": "markdown",
   "metadata": {
    "collapsed": true,
    "id": "SgoO4bEb-B5w"
   },
   "source": [
    "\n",
    "#### Code 3 - Train d'impulsions modulées en fréquence\n",
    "\n",
    "Le fichier « signal3.mat » correspond à un enregistrement de signaux sur une cible mobile. Représenter la cartographie distance/vitesse définie précédemment. En déduire la position et la vitesse de la cible.\n"
   ]
  },
  {
   "cell_type": "code",
   "execution_count": null,
   "metadata": {
    "id": "Rx9g56KJ-B5x"
   },
   "outputs": [],
   "source": [
    "data = scipy.io.loadmat('data/signal3.mat')\n",
    "\n",
    "e = data['e']\n",
    "r = data['r']\n",
    "Fs = data['Fs']\n",
    "Nbrec = data['Nbrec']\n",
    "Tr = data['Tr']\n",
    "\n",
    "N = Tr * Fs                              # Nombre de points par récurrence\n",
    "e = np.reshape(e,(int(Nbrec),int(N))).T  # Conversion du vecteur de Nbrec récurrences en une matrice N x Nbrec\n",
    "r = np.reshape(r,(int(Nbrec),int(N))).T  # Conversion du vecteur de Nbrec récurrences en une matrice N x Nbrec\n",
    "\n",
    "d = c * np.arange(0,N)/Fs/2                   # axe distance (metres)\n",
    "fd = np.arange(0,Nbrec)/float(Nbrec)/Tr              # axe fréquence Doppler (Hz)\n",
    "v = fd*c/2/f0*100                               # conversion des fréquences Doppler en vitesses (cm/s)\n",
    "\n",
    "cor = None             # calcul de la corrélation par FFT\n",
    "cor_dop = None         # calcul de la FFT Doppler\n",
    "d_cible = None\n",
    "v_cible = None         #calcul du maximum de corrélation (estimation de la distance et de la vitesse)\n",
    "\n",
    "#tracés\n",
    "plt.figure(),\n",
    "plt.imshow(None)\n",
    "plt.xlabel(None)\n",
    "plt.ylabel(None)\n",
    "title(None)"
   ]
  },
  {
   "cell_type": "markdown",
   "metadata": {
    "id": "qtx-TRMD-B5x"
   },
   "source": [
    "Dans notre application, la vitesse de l’objet cible ne nous intéresse pas directement. Par contre, la scène vue par le radar peut comporter d’autres échos possédant une vitesse nulle (on appelle ces échos indésirables le clutter). On peut alors exploiter l’information de Doppler pour éliminer les cibles possédant un Doppler nul. On appelle ce type de filtre, un filtre MTI (Moving Target Indicator).\n",
    "\n",
    "> ##### Filtrage\n",
    ">Un filtre $R$ est un système linéaire invariant temporellement. Il est ainsi caractérisé par sa réponse impulsionnelle, $h[n] = R[\\delta[n]]$. La sortie temporelle $y[n]$ sera alors le produit de convolution de cette réponse impulsionnelle et de l’entrée $x[n]$:\n",
    ">\n",
    "> $$ y[n] = \\sum_{k = -\\infty}^{+\\infty} x[k] h[n-k] = x * h = h * x = \\sum_{k = -\\infty}^{+\\infty} h[k] x[n-k] $$\n",
    ">\n",
    "> Par transformée en Z, on sait que ce produit de convolution se transforme en produit simple :\n",
    ">\n",
    "> $$ Y(Z) = H(Z) X(Z) $$ \n",
    ">\n",
    "> On peut alors également caractériser le filtre par sa fonction de transfert : $H(Z) = TZ[h[n]]$\\\\\n",
    "qui peut être calculée simplement par $H(Z) = \\cfrac{Y(z)}{X(Z)}$\n",
    "> Dans le cas particulier où $x[n] = e^{2 i \\pi \\tilde{f}n}$ la sortie temporelle s’écrit :\n",
    ">\n",
    ">$$ y[n] = \\sum_{k = -\\infty}^{+\\infty} h[k] x[n-k] = e^{2 i \\pi \\tilde{f}n} \\sum_{k = -\\infty}^{+\\infty} h[k] e^{-2 i \\pi \\tilde{f}k} = x[n] H(e^{2 i \\pi \\tilde f})$$\n",
    ">Autrement dit, une exponentielle complexe est simplement multipliée par un nombre complexe à la traversée d’un système linéaire (c’est une fonction propre). Ce nombre complexe, n’est autre que la fonction de transfert où l’on a limité $Z$ au cercle unité. $Z(= e^{2 i \\pi \\tilde f})$.Ainsi, la représentation de $H(e^{2 i \\pi \\tilde f})$ en fonction des fréquences permet d’analyser le gain (module) et le déphasage (argument) subis par les composantes fréquentielles non amorties. C’est le diagramme de Bode.\n",
    "\n",
    "\n",
    "Le filtre MTI le plus simple est $H_2(Z) = \\cfrac{1 - z^{-1}}{2}$. On utilise classiquement ce type de filtre en\n",
    "cascade dans les systèmes réels : $H_M(Z) = \\left(\\cfrac{1 - z^{-1}}{2}\\right)^{M-1}$.\n",
    "\n",
    "#### Question 9\n",
    "\n",
    " Tracer le comportement fréquentiel du module et de la phase de $H_2(Z)$. Généraliser à $H_M(Z)$. Calculer la fréquence de coupure de ce filtre. En déduire la vitesse « de coupure » correspondante.\n",
    "\n",
    "---\n"
   ]
  },
  {
   "cell_type": "markdown",
   "metadata": {
    "id": "9EgGygKk-B5x"
   },
   "source": [
    " "
   ]
  },
  {
   "cell_type": "markdown",
   "metadata": {
    "id": "icPwUJLf-B5x"
   },
   "source": [
    "#### Question 10\n",
    "\n",
    "Etudier et tracer le comportement fréquentiel de $G_M(Z) = \\cfrac{\\sum_{k=0}^{M-1}z^{-k}}{M}$. Montrer que le\n",
    "changement de variable $Z \\to -Z$ permet de passer à filtre passe-haut ($G_M(Z) = G_M(-Z)$). En déduire la fréquence de coupure de ce dernier filtre.\n",
    "\n",
    "---\n"
   ]
  },
  {
   "cell_type": "markdown",
   "metadata": {
    "collapsed": true,
    "id": "C7MUvhnk-B5y"
   },
   "source": [
    " "
   ]
  },
  {
   "cell_type": "markdown",
   "metadata": {
    "id": "JEm3KRgG-B5y"
   },
   "source": [
    "Pour finir, on s’intéresse à une autre classe de filtres MTI : $T_M(Z) = 1 - \\cfrac{\\sum_{k = 0}^{M-1}z^{-k}}{M}= 1 - G_M(Z)$. "
   ]
  },
  {
   "cell_type": "markdown",
   "metadata": {
    "id": "KfXsmHdo-B5y"
   },
   "source": [
    "####Code 4 - Tracé des gains des filtres MTI\n",
    "Comparer les filtres MTI précédents à partir des tracés de leurs réponses fréquentielles.\n"
   ]
  },
  {
   "cell_type": "code",
   "execution_count": null,
   "metadata": {
    "collapsed": true,
    "id": "KCOSRNo5-B5y"
   },
   "outputs": [],
   "source": [
    "Npts=100 # Nombre de points des tracés\n",
    "M=8      #Taille des réponses impulsionnelles\n",
    "\n",
    "h2 = None # Réponse impulsionnelle du filtre H2\n",
    "h8 = None # Réponse impulsionnelle du filtre H8\n",
    "g2 = None # Réponse impulsionnelle du filtre G2\n",
    "g8 = None # Réponse impulsionnelle du filtre G8\n",
    "t2 = None # Réponse impulsionnelle du filtre T2\n",
    "t8 = None # Réponse impulsionnelle du filtre T8\n",
    "\n",
    "from scipy import signal \n",
    "w,h2 = signal.freqz(h2,1,Npts) # Calcul de la fonction de transfert associée\n",
    "w,h8 = None\n",
    "w,g8 = None\n",
    "w,t8 = None\n",
    "\n",
    "vrad = c/(4*np.pi*f0*Tr)*w*100 # Conversion pulsation réduite en vitesse radiale\n",
    "\n",
    "plt.figure(),plt.plot(None)\n",
    "plt.xlabel(None)\n",
    "plt.ylabel(None)\n",
    "plt.legend(None)"
   ]
  },
  {
   "cell_type": "markdown",
   "metadata": {
    "id": "GRNXaHL6-B5z"
   },
   "source": [
    "####Code 5 - Test des filtres MTI sur signaux réels\n",
    "Comparer les 4 filtres précédents (M=2 et M=8) en les appliquant aux signaux du fichier « signal4.mat ». Lequel est le mieux adapté à la détection de la cible ?\n"
   ]
  },
  {
   "cell_type": "code",
   "execution_count": null,
   "metadata": {
    "collapsed": true,
    "id": "SCwp3lje-B5z"
   },
   "outputs": [],
   "source": [
    "data = scipy.io.loadmat('data/signal4.mat') # chargement du fichier de donnÈes\n",
    "e = data['e']\n",
    "r = data['r']\n",
    "Fs = data['Fs']\n",
    "Nbrec = data['Nbrec']\n",
    "Tr = data['Tr']\n",
    "\n",
    "N = Tr * Fs             # Nombre de points par récurrence\n",
    "e = e.reshape(N, Nbrec) # Conversion du vecteur de Nbrec récurrences en une matrice N x Nbrec\n",
    "r = r.reshape(N,Nbrec)  # Conversion du vecteur de Nbrec récurrences en une matrice N x Nbrec\n",
    "\n",
    "cor = None              # calcul de la corrélation par FFT\n",
    "cor_dop = None          # calcul de la FFT Doppler\n",
    "\n",
    "cor_h2 = None\n",
    "cor_h8 = None\n",
    "cor_g8 = None\n",
    "cor_t8 = None\n",
    "\n",
    "plt.figure(),\n",
    "plt.subplot(2, 1, 1), plt.imshow()\n",
    "plt.xlabel(None)\n",
    "ylabel(None)\n",
    "title('carto distance/vitesse')\n",
    "\n",
    "plt.subplot(2,1,2),plt.plot(None)\n",
    "plt.legend('sans filtre MTI','H2','H8','G8','T8')"
   ]
  }
 ],
 "metadata": {
  "anaconda-cloud": {},
  "colab": {
   "collapsed_sections": [],
   "name": "mini_projet_groupe5.ipynb",
   "provenance": []
  },
  "kernelspec": {
   "display_name": "Python 3 (ipykernel)",
   "language": "python",
   "name": "python3"
  },
  "language_info": {
   "codemirror_mode": {
    "name": "ipython",
    "version": 3
   },
   "file_extension": ".py",
   "mimetype": "text/x-python",
   "name": "python",
   "nbconvert_exporter": "python",
   "pygments_lexer": "ipython3",
   "version": "3.9.5"
  }
 },
 "nbformat": 4,
 "nbformat_minor": 1
}
